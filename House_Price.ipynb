{
 "cells": [
  {
   "cell_type": "code",
   "execution_count": 1,
   "id": "72c8f698",
   "metadata": {},
   "outputs": [],
   "source": [
    "import pandas as pd\n",
    "import matplotlib.pyplot as plt\n",
    "import numpy as np\n",
    "from sklearn.tree import DecisionTreeClassifier\n",
    "from sklearn.model_selection import GridSearchCV\n",
    "from sklearn.metrics import accuracy_score\n",
    "from sklearn.model_selection import train_test_split\n",
    "from sklearn.model_selection import cross_val_score\n",
    "from sklearn.neighbors import KNeighborsClassifier"
   ]
  },
  {
   "cell_type": "code",
   "execution_count": 2,
   "id": "e932d2d1",
   "metadata": {},
   "outputs": [
    {
     "data": {
      "text/html": [
       "<div>\n",
       "<style scoped>\n",
       "    .dataframe tbody tr th:only-of-type {\n",
       "        vertical-align: middle;\n",
       "    }\n",
       "\n",
       "    .dataframe tbody tr th {\n",
       "        vertical-align: top;\n",
       "    }\n",
       "\n",
       "    .dataframe thead th {\n",
       "        text-align: right;\n",
       "    }\n",
       "</style>\n",
       "<table border=\"1\" class=\"dataframe\">\n",
       "  <thead>\n",
       "    <tr style=\"text-align: right;\">\n",
       "      <th></th>\n",
       "      <th>Unnamed: 0</th>\n",
       "      <th>Record</th>\n",
       "      <th>Sale_amount</th>\n",
       "      <th>Sale_date</th>\n",
       "      <th>Beds</th>\n",
       "      <th>Baths</th>\n",
       "      <th>Sqft_home</th>\n",
       "      <th>Sqft_lot</th>\n",
       "      <th>Type</th>\n",
       "      <th>Build_year</th>\n",
       "      <th>Town</th>\n",
       "      <th>University</th>\n",
       "      <th>Type2</th>\n",
       "    </tr>\n",
       "  </thead>\n",
       "  <tbody>\n",
       "    <tr>\n",
       "      <th>0</th>\n",
       "      <td>1</td>\n",
       "      <td>1</td>\n",
       "      <td>295000.0</td>\n",
       "      <td>42521</td>\n",
       "      <td>5</td>\n",
       "      <td>3.00</td>\n",
       "      <td>2020</td>\n",
       "      <td>38332.8</td>\n",
       "      <td>3</td>\n",
       "      <td>1976</td>\n",
       "      <td>1</td>\n",
       "      <td>10</td>\n",
       "      <td>3</td>\n",
       "    </tr>\n",
       "    <tr>\n",
       "      <th>1</th>\n",
       "      <td>2</td>\n",
       "      <td>2</td>\n",
       "      <td>240000.0</td>\n",
       "      <td>42541</td>\n",
       "      <td>4</td>\n",
       "      <td>2.00</td>\n",
       "      <td>1498</td>\n",
       "      <td>54014.4</td>\n",
       "      <td>3</td>\n",
       "      <td>2002</td>\n",
       "      <td>1</td>\n",
       "      <td>10</td>\n",
       "      <td>3</td>\n",
       "    </tr>\n",
       "    <tr>\n",
       "      <th>2</th>\n",
       "      <td>3</td>\n",
       "      <td>3</td>\n",
       "      <td>385000.0</td>\n",
       "      <td>42521</td>\n",
       "      <td>5</td>\n",
       "      <td>4.00</td>\n",
       "      <td>4000</td>\n",
       "      <td>85813.2</td>\n",
       "      <td>3</td>\n",
       "      <td>2001</td>\n",
       "      <td>1</td>\n",
       "      <td>10</td>\n",
       "      <td>3</td>\n",
       "    </tr>\n",
       "    <tr>\n",
       "      <th>3</th>\n",
       "      <td>4</td>\n",
       "      <td>4</td>\n",
       "      <td>268000.0</td>\n",
       "      <td>42472</td>\n",
       "      <td>3</td>\n",
       "      <td>2.50</td>\n",
       "      <td>2283</td>\n",
       "      <td>118918.8</td>\n",
       "      <td>3</td>\n",
       "      <td>1972</td>\n",
       "      <td>1</td>\n",
       "      <td>10</td>\n",
       "      <td>3</td>\n",
       "    </tr>\n",
       "    <tr>\n",
       "      <th>4</th>\n",
       "      <td>5</td>\n",
       "      <td>5</td>\n",
       "      <td>186000.0</td>\n",
       "      <td>42465</td>\n",
       "      <td>3</td>\n",
       "      <td>1.25</td>\n",
       "      <td>1527</td>\n",
       "      <td>15681.6</td>\n",
       "      <td>3</td>\n",
       "      <td>1975</td>\n",
       "      <td>1</td>\n",
       "      <td>10</td>\n",
       "      <td>3</td>\n",
       "    </tr>\n",
       "  </tbody>\n",
       "</table>\n",
       "</div>"
      ],
      "text/plain": [
       "   Unnamed: 0  Record  Sale_amount  Sale_date  Beds  Baths  Sqft_home  \\\n",
       "0           1       1     295000.0      42521     5   3.00       2020   \n",
       "1           2       2     240000.0      42541     4   2.00       1498   \n",
       "2           3       3     385000.0      42521     5   4.00       4000   \n",
       "3           4       4     268000.0      42472     3   2.50       2283   \n",
       "4           5       5     186000.0      42465     3   1.25       1527   \n",
       "\n",
       "   Sqft_lot  Type  Build_year  Town  University  Type2  \n",
       "0   38332.8     3        1976     1          10      3  \n",
       "1   54014.4     3        2002     1          10      3  \n",
       "2   85813.2     3        2001     1          10      3  \n",
       "3  118918.8     3        1972     1          10      3  \n",
       "4   15681.6     3        1975     1          10      3  "
      ]
     },
     "execution_count": 2,
     "metadata": {},
     "output_type": "execute_result"
    }
   ],
   "source": [
    "file_path = r'C:\\Users\\BP\\OneDrive - BCIT\\SEM4\\AIM\\W5 CrossValidation\\House_Prices.csv'\n",
    "df = pd.read_csv(file_path)\n",
    "df.head()"
   ]
  },
  {
   "cell_type": "markdown",
   "id": "5bff4c47",
   "metadata": {},
   "source": [
    "# Step 1"
   ]
  },
  {
   "cell_type": "code",
   "execution_count": 3,
   "id": "869947cf",
   "metadata": {},
   "outputs": [
    {
     "name": "stdout",
     "output_type": "stream",
     "text": [
      "The number of rows:  10659\n",
      "The number of columns excluding row markers:  9\n"
     ]
    },
    {
     "data": {
      "text/html": [
       "<div>\n",
       "<style scoped>\n",
       "    .dataframe tbody tr th:only-of-type {\n",
       "        vertical-align: middle;\n",
       "    }\n",
       "\n",
       "    .dataframe tbody tr th {\n",
       "        vertical-align: top;\n",
       "    }\n",
       "\n",
       "    .dataframe thead th {\n",
       "        text-align: right;\n",
       "    }\n",
       "</style>\n",
       "<table border=\"1\" class=\"dataframe\">\n",
       "  <thead>\n",
       "    <tr style=\"text-align: right;\">\n",
       "      <th></th>\n",
       "      <th>Sale_amount</th>\n",
       "      <th>Sale_date</th>\n",
       "      <th>Beds</th>\n",
       "      <th>Baths</th>\n",
       "      <th>Sqft_home</th>\n",
       "      <th>Sqft_lot</th>\n",
       "      <th>Type</th>\n",
       "      <th>Build_year</th>\n",
       "      <th>Town</th>\n",
       "    </tr>\n",
       "  </thead>\n",
       "  <tbody>\n",
       "    <tr>\n",
       "      <th>0</th>\n",
       "      <td>295000.0</td>\n",
       "      <td>42521</td>\n",
       "      <td>5</td>\n",
       "      <td>3.00</td>\n",
       "      <td>2020</td>\n",
       "      <td>38332.8</td>\n",
       "      <td>3</td>\n",
       "      <td>1976</td>\n",
       "      <td>1</td>\n",
       "    </tr>\n",
       "    <tr>\n",
       "      <th>1</th>\n",
       "      <td>240000.0</td>\n",
       "      <td>42541</td>\n",
       "      <td>4</td>\n",
       "      <td>2.00</td>\n",
       "      <td>1498</td>\n",
       "      <td>54014.4</td>\n",
       "      <td>3</td>\n",
       "      <td>2002</td>\n",
       "      <td>1</td>\n",
       "    </tr>\n",
       "    <tr>\n",
       "      <th>2</th>\n",
       "      <td>385000.0</td>\n",
       "      <td>42521</td>\n",
       "      <td>5</td>\n",
       "      <td>4.00</td>\n",
       "      <td>4000</td>\n",
       "      <td>85813.2</td>\n",
       "      <td>3</td>\n",
       "      <td>2001</td>\n",
       "      <td>1</td>\n",
       "    </tr>\n",
       "    <tr>\n",
       "      <th>3</th>\n",
       "      <td>268000.0</td>\n",
       "      <td>42472</td>\n",
       "      <td>3</td>\n",
       "      <td>2.50</td>\n",
       "      <td>2283</td>\n",
       "      <td>118918.8</td>\n",
       "      <td>3</td>\n",
       "      <td>1972</td>\n",
       "      <td>1</td>\n",
       "    </tr>\n",
       "    <tr>\n",
       "      <th>4</th>\n",
       "      <td>186000.0</td>\n",
       "      <td>42465</td>\n",
       "      <td>3</td>\n",
       "      <td>1.25</td>\n",
       "      <td>1527</td>\n",
       "      <td>15681.6</td>\n",
       "      <td>3</td>\n",
       "      <td>1975</td>\n",
       "      <td>1</td>\n",
       "    </tr>\n",
       "  </tbody>\n",
       "</table>\n",
       "</div>"
      ],
      "text/plain": [
       "   Sale_amount  Sale_date  Beds  Baths  Sqft_home  Sqft_lot  Type  Build_year  \\\n",
       "0     295000.0      42521     5   3.00       2020   38332.8     3        1976   \n",
       "1     240000.0      42541     4   2.00       1498   54014.4     3        2002   \n",
       "2     385000.0      42521     5   4.00       4000   85813.2     3        2001   \n",
       "3     268000.0      42472     3   2.50       2283  118918.8     3        1972   \n",
       "4     186000.0      42465     3   1.25       1527   15681.6     3        1975   \n",
       "\n",
       "   Town  \n",
       "0     1  \n",
       "1     1  \n",
       "2     1  \n",
       "3     1  \n",
       "4     1  "
      ]
     },
     "execution_count": 3,
     "metadata": {},
     "output_type": "execute_result"
    }
   ],
   "source": [
    "# data cleaning\n",
    "df = df.drop(columns =['Unnamed: 0','University','Record','Type2'])\n",
    "\n",
    "print('The number of rows: ',df.shape[0])\n",
    "print('The number of columns excluding row markers: ',df.shape[1])\n",
    "df.head()"
   ]
  },
  {
   "cell_type": "markdown",
   "id": "54a24aa7",
   "metadata": {},
   "source": [
    "Why are the dates just numbers?  Why is this ok?\n",
    "\n",
    "*when importing csv file containing dates into a padas DataFrame, the dates are often represented as timestamps. It's acceptable that the dates appear numbers as pandas can work with datetime data. The computer can compute numeric values easily, however, it's important to convert the numbers to a human-readable format for interpretation.*"
   ]
  },
  {
   "cell_type": "markdown",
   "id": "f0bd2867",
   "metadata": {},
   "source": [
    "# Step 2\n",
    "\n",
    "*Reference:* https://www.analyticsvidhya.com/blog/2021/06/tune-hyperparameters-with-gridsearchcv."
   ]
  },
  {
   "cell_type": "code",
   "execution_count": 4,
   "id": "d25ef65b",
   "metadata": {},
   "outputs": [],
   "source": [
    "# Create X and Y\n",
    "X = df.drop(columns=['Town'])\n",
    "Y = df['Town']\n",
    "\n",
    "# Test/train Split\n",
    "X_train, X_test, Y_train, Y_test = train_test_split(X,Y, test_size=0.2, random_state=2023)"
   ]
  },
  {
   "cell_type": "markdown",
   "id": "11184c8f",
   "metadata": {},
   "source": [
    "### Model1: Decision Tree"
   ]
  },
  {
   "cell_type": "code",
   "execution_count": 5,
   "id": "3be8d605",
   "metadata": {},
   "outputs": [
    {
     "name": "stdout",
     "output_type": "stream",
     "text": [
      "DecisionTreeClassifier(max_depth=11, min_samples_leaf=7, min_samples_split=5)\n",
      "accuracy score:  0.2886135873731835\n"
     ]
    }
   ],
   "source": [
    "tree_param = {\n",
    "    'max_depth': range(1, 20),\n",
    "    'min_samples_split': range(2, 11),\n",
    "    'min_samples_leaf': range(1, 11)\n",
    "}\n",
    "\n",
    "tree_model = DecisionTreeClassifier()\n",
    "tree_grid_search = GridSearchCV(tree_model, tree_param, cv=5)\n",
    "tree_grid_search.fit(X_train, Y_train)\n",
    "\n",
    "# Get the best model and its parameters\n",
    "best_tree_model = tree_grid_search.best_estimator_\n",
    "tree_accuracy = tree_grid_search.best_score_\n",
    " \n",
    "print(best_tree_model)\n",
    "print('accuracy score: ',tree_accuracy)"
   ]
  },
  {
   "cell_type": "markdown",
   "id": "8a377454",
   "metadata": {},
   "source": [
    "### Model2: KNN"
   ]
  },
  {
   "cell_type": "code",
   "execution_count": 6,
   "id": "ea8f9285",
   "metadata": {},
   "outputs": [
    {
     "name": "stdout",
     "output_type": "stream",
     "text": [
      "KNeighborsClassifier(n_neighbors=14, p=1)\n",
      "accuracy score:  0.1430748814774833\n"
     ]
    }
   ],
   "source": [
    "knn_param = {\n",
    "    'n_neighbors': range(1,15),\n",
    "    'p':[1,2,3]\n",
    "}\n",
    "\n",
    "knn_model = KNeighborsClassifier()\n",
    "\n",
    "knn_grid_search = GridSearchCV(knn_model, knn_param, cv=5)\n",
    "knn_grid_search.fit(X_train, Y_train)\n",
    "\n",
    "best_knn_model = knn_grid_search.best_estimator_\n",
    "knn_accuracy = knn_grid_search.best_score_\n",
    " \n",
    "print(best_knn_model)\n",
    "print('accuracy score: ',knn_accuracy)"
   ]
  },
  {
   "cell_type": "markdown",
   "id": "97afba86",
   "metadata": {},
   "source": [
    "# Define the best model"
   ]
  },
  {
   "cell_type": "code",
   "execution_count": 7,
   "id": "b3c948ba",
   "metadata": {},
   "outputs": [
    {
     "name": "stdout",
     "output_type": "stream",
     "text": [
      "The best model is:  Decision Tree\n"
     ]
    }
   ],
   "source": [
    "model_scores = {'Decision Tree': tree_accuracy,\n",
    "                'KNN': knn_accuracy}\n",
    "\n",
    "# Find the model with the lowest accuracy score\n",
    "best_model = max(model_scores, key=model_scores.get)\n",
    "print('The best model is: ',best_model)"
   ]
  },
  {
   "cell_type": "markdown",
   "id": "2ae272b6",
   "metadata": {},
   "source": [
    "# Test the model with test set"
   ]
  },
  {
   "cell_type": "code",
   "execution_count": 8,
   "id": "af7d0156",
   "metadata": {},
   "outputs": [
    {
     "name": "stdout",
     "output_type": "stream",
     "text": [
      "Training Accuracy is  0.4496305851999531\n",
      "Testing Accuracy is  0.3044090056285178\n"
     ]
    }
   ],
   "source": [
    "# Fit the best model on the training data\n",
    "best_tree_model.fit(X_train, Y_train)\n",
    "\n",
    "# Predict on training and test data\n",
    "Y_pred_train = best_tree_model.predict(X_train)\n",
    "Y_pred_test = best_tree_model.predict(X_test)\n",
    "\n",
    "train_accuracy = accuracy_score(Y_train,Y_pred_train)\n",
    "test_accuracy = accuracy_score(Y_test,Y_pred_test)\n",
    "\n",
    "print (\"Training Accuracy is \", train_accuracy)\n",
    "print (\"Testing Accuracy is \", test_accuracy)"
   ]
  },
  {
   "cell_type": "code",
   "execution_count": 9,
   "id": "dcb29c87",
   "metadata": {},
   "outputs": [
    {
     "name": "stdout",
     "output_type": "stream",
     "text": [
      "14.522157957143527 %\n",
      "The model might be overfitting.\n"
     ]
    }
   ],
   "source": [
    "# training accuracy\n",
    "# testing accuracy\n",
    "diff = train_accuracy - test_accuracy\n",
    "print(diff * 100, '%')\n",
    "\n",
    "# Check for overfitting or underfitting\n",
    "if 0 < diff <= 0.02:\n",
    "    print(\"The model is likely a good fit.\")\n",
    "elif 0.02 < diff <= 0.10:\n",
    "    print(\"The model is acceptably good fit.\")\n",
    "else:\n",
    "    print(\"The model might be overfitting.\")"
   ]
  },
  {
   "cell_type": "markdown",
   "id": "45f1b2ee",
   "metadata": {},
   "source": [
    "*Reference:* https://machinelearningmastery.com/overfitting-and-underfitting-with-machine-learning-algorithms/\n",
    "\n",
    "Overfitting happens when the model performs better on the training data compared to the testing data. It commonly occurs with non-parametric and non-linear models. Even though Decision Tree model is defined as the best model, it tends to overfitting training data.\n",
    "\n",
    "In summary, either overfitting and underfitting might lead to poor model performance, but overfitting is more common. To limit overfitting, it is neccesary to conduct test/train split and cross-validation."
   ]
  },
  {
   "cell_type": "markdown",
   "id": "00c698a5",
   "metadata": {},
   "source": [
    "# Prediction\n",
    "\n",
    "*Lee purchased a 1,450 sq ft Single Family home (coded as 3) on 2018-04-11, (43201) for $350,000.  The house has 3 bedrooms and 2 baths.  It was built in 1992, and is on a 40,000 square foot lot. What town is it?*"
   ]
  },
  {
   "cell_type": "code",
   "execution_count": 10,
   "id": "6c462f69",
   "metadata": {},
   "outputs": [
    {
     "name": "stdout",
     "output_type": "stream",
     "text": [
      "Predicted Town: [47]\n"
     ]
    },
    {
     "name": "stderr",
     "output_type": "stream",
     "text": [
      "C:\\Users\\BP\\anaconda3\\Lib\\site-packages\\sklearn\\base.py:464: UserWarning: X does not have valid feature names, but DecisionTreeClassifier was fitted with feature names\n",
      "  warnings.warn(\n"
     ]
    }
   ],
   "source": [
    "# Prepare the new data in the same format as the training data\n",
    "# Sale_amount, Sale_date, Beds, Baths, Sqft_home, Sqft_lot, Type, Build_year\n",
    "new_house_features = [350000, 43201, 3, 2, 1450, 40000, 3, 1992]\n",
    "new_house_features = np.array(new_house_features).reshape(1, -1)  # Reshape to a 2D array\n",
    "\n",
    "# Predict the town for the new house using the trained model\n",
    "predicted_town = best_tree_model.predict(new_house_features)\n",
    "\n",
    "print(\"Predicted Town:\", predicted_town)"
   ]
  },
  {
   "cell_type": "code",
   "execution_count": null,
   "id": "1ecd47ce",
   "metadata": {},
   "outputs": [],
   "source": []
  }
 ],
 "metadata": {
  "kernelspec": {
   "display_name": "Python 3 (ipykernel)",
   "language": "python",
   "name": "python3"
  },
  "language_info": {
   "codemirror_mode": {
    "name": "ipython",
    "version": 3
   },
   "file_extension": ".py",
   "mimetype": "text/x-python",
   "name": "python",
   "nbconvert_exporter": "python",
   "pygments_lexer": "ipython3",
   "version": "3.11.4"
  }
 },
 "nbformat": 4,
 "nbformat_minor": 5
}
